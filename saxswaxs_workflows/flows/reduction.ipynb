{
 "cells": [
  {
   "cell_type": "code",
   "execution_count": null,
   "metadata": {},
   "outputs": [],
   "source": [
    "from prefect import get_client\n",
    "import matplotlib.pyplot as plt\n",
    "import os\n",
    "from tiled.client import from_uri\n",
    "import numpy as np"
   ]
  },
  {
   "cell_type": "code",
   "execution_count": null,
   "metadata": {},
   "outputs": [],
   "source": [
    "# Initialize the Tiled server\n",
    "TILED_URI = os.getenv(\"TILED_URI\")\n",
    "TILED_API_KEY = os.getenv(\"TILED_API_KEY\")\n",
    "\n",
    "tiled_client = from_uri(TILED_URI, api_key=TILED_API_KEY)\n",
    "TILED_BASE_URI = tiled_client.uri"
   ]
  },
  {
   "attachments": {},
   "cell_type": "markdown",
   "metadata": {},
   "source": []
  },
  {
   "cell_type": "code",
   "execution_count": null,
   "metadata": {},
   "outputs": [],
   "source": [
    "client = get_client()\n",
    "deployment = await client.read_deployment_by_name(\n",
    "    \"pixel-roi-vertical-sum-tiled/pixel-roi-vertical-sum\"\n",
    ")"
   ]
  },
  {
   "cell_type": "markdown",
   "metadata": {},
   "source": []
  },
  {
   "cell_type": "code",
   "execution_count": null,
   "metadata": {},
   "outputs": [],
   "source": [
    "parameters = {\n",
    "    \"input_uri_data\": \"raw/cali_saxs_agbh_00001/lmbdp03/cali_saxs_agbh_00001\",\n",
    "    \"input_uri_mask\": \"raw/masks/saxs_mask\",\n",
    "    \"beamcenter_x\": 900,  # x-coordiante of the beam center postion in pixel\n",
    "    \"beamcenter_y\": 2945,  # y-coordiante of the beam center postion in pixel\n",
    "    \"sdd\": 833.8931,  # sample-detector-distance in mm beamcenter_y: 2945.038\n",
    "    \"pix_size\": 55,  # pixel size in microns\n",
    "    \"wl\": 1.05,  # wavelength in Angstrom\n",
    "    \"incident_angle\": 0.4,  # incident angle\n",
    "    \"output_unit\": \"pixel\",\n",
    "    \"cut_half_width\": 10,\n",
    "    \"ymin\": 2744,\n",
    "    \"ymax\": 3244,\n",
    "    \"output_key\": \"test\"\n",
    "    # \"rotation\": 0,  # detector rotation in degrees (Fit2D convention)\n",
    "    # \"tilt\": 0,  # detector tilt in degrees (Fit2D convention)\n",
    "}"
   ]
  },
  {
   "cell_type": "code",
   "execution_count": null,
   "metadata": {},
   "outputs": [],
   "source": [
    "flow_run = await client.create_flow_run_from_deployment(\n",
    "    deployment.id, parameters=parameters\n",
    ")\n",
    "flow_run_id = flow_run.id"
   ]
  },
  {
   "cell_type": "code",
   "execution_count": null,
   "metadata": {},
   "outputs": [],
   "source": [
    "flow_run = await client.read_flow_run(flow_run_id)\n",
    "flow_run.state"
   ]
  },
  {
   "cell_type": "code",
   "execution_count": null,
   "metadata": {},
   "outputs": [],
   "source": [
    "data = from_uri(TILED_BASE_URI + parameters[\"input_uri_data\"])[:]\n",
    "mask = from_uri(TILED_BASE_URI + parameters[\"input_uri_mask\"])[:]\n",
    "from conversions import mask_image"
   ]
  },
  {
   "cell_type": "code",
   "execution_count": null,
   "metadata": {},
   "outputs": [],
   "source": [
    "plt.imshow(mask_image.fn(data, np.rot90(mask)), origin=\"lower\")"
   ]
  }
 ],
 "metadata": {
  "kernelspec": {
   "display_name": "saxswaxs-workflows-env",
   "language": "python",
   "name": "python3"
  },
  "language_info": {
   "codemirror_mode": {
    "name": "ipython",
    "version": 3
   },
   "file_extension": ".py",
   "mimetype": "text/x-python",
   "name": "python",
   "nbconvert_exporter": "python",
   "pygments_lexer": "ipython3",
   "version": "3.9.6"
  }
 },
 "nbformat": 4,
 "nbformat_minor": 2
}
